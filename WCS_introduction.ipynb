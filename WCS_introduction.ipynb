{
 "metadata": {
  "name": "",
  "signature": "sha256:f27ebda75901bec64de6fdd28b723b4f05047c3b14ed218bd2f602c81ac85e16"
 },
 "nbformat": 3,
 "nbformat_minor": 0,
 "worksheets": [
  {
   "cells": [
    {
     "cell_type": "heading",
     "level": 1,
     "metadata": {},
     "source": [
      "OGC Web Coverage Service (WCS) 2.0.1"
     ]
    },
    {
     "cell_type": "markdown",
     "metadata": {},
     "source": [
      "This notebook shall give you a short introduction to WCS and WCPS and help you to get started retrieving data from a WCS server."
     ]
    },
    {
     "cell_type": "markdown",
     "metadata": {},
     "source": [
      " "
     ]
    },
    {
     "cell_type": "heading",
     "level": 3,
     "metadata": {},
     "source": [
      "OGC WCS Core Requests"
     ]
    },
    {
     "cell_type": "markdown",
     "metadata": {},
     "source": [
      "OGC Web Coverage Service (v.2.0.1) is a standarized data access protocol. \n",
      "There are three core requests in order to get access to data.\n",
      "\n",
      "The rasdaman WCS server can be accessed via this url --> at request one of the core requests has to be specified (see examples below):<br> \n",
      "http://incubator.ecmwf.int/2e/rasdaman/ows?service=WCS&version=2.0.1&request=...\n",
      "\n",
      "* **GetCapabilities**\n",
      "Returns a XML-encoded description of service properties and all data (coverages) available on the server.<br>\n",
      "    * The \"Capabilities document\" is returned and contains information e.g. service provider, to format encodings, supported interpolation methods, coverages on the server <br>\n",
      "\n",
      "    Example: http://incubator.ecmwf.int/2e/rasdaman/ows?service=WCS&version=2.0.1&request=GetCapabilites\n",
      "\n",
      "\n",
      "* **Describe Coverage**\n",
      "Returns XML-encoded description of a specific coverage, to check resolution, dimension etc. <br>\n",
      "    * Returns the \"Coverage description document\" that contains information to spatial and temporal dimension and general information to the type of coverage <br>\n",
      "\n",
      "    Example: http://incubator.ecmwf.int/2e/rasdaman/ows?service=WCS&version=2.0.1&request=DescribeCoverage&coverageId=T2m\n",
      "\n",
      "\n",
      "* **GetCoverage**\n",
      "Returns a coverage or spatial / temporal subset of the coverage --> allows slicing and trimming <br>\n",
      "    * Returns either an xml-encoded file with the resulting information as a tuple list\n",
      "\n",
      "    Example: Retrieve 2m air temperature for the year 2012 for Lat 52 - 54 and Lon 0 - 2 <br>\n",
      "        http://incubator.ecmwf.int/2e/rasdaman/ows?service=WCS&version=2.0.1&request=GetCoverage&coverageId=T2m&subset=Lat%2852.0,54.00%29&subset=Long%280.0,2.0%29&subset=ansi%28%222012-01-01T00:00:00+00:00%22,%222012-12-31T18:00:00+00:00%22%29 <br><br>\n",
      "\n",
      "    * or, a specific format encoding can be chosen, e.g. netCDF:    \n",
      "    \n",
      "    Example: you add to your GetCoverage request at the end **&format=application/netcdf**<br>\n",
      "    http://incubator.ecmwf.int/2e/rasdaman/ows?service=WCS&version=2.0.1&request=GetCoverage&coverageId=T2m&subset=Lat%2852.0,54.00%29&subset=Long%280.0,2.0%29&subset=ansi%28%222012-01-01T00:00:00+00:00%22%29&format=application/netcdf \n",
      "\n"
     ]
    },
    {
     "cell_type": "markdown",
     "metadata": {},
     "source": [
      " "
     ]
    },
    {
     "cell_type": "heading",
     "level": 3,
     "metadata": {},
     "source": [
      "OGC WCS Extension Requests"
     ]
    },
    {
     "cell_type": "markdown",
     "metadata": {},
     "source": [
      "OGC Web Coverage Processing Service allow extraction, analysis and processing of large gridded geo-referenced datasets.<br> \n",
      "At WCS 2.0.1, there is an extension for **PROCESSING**. <br>\n",
      "\n",
      "With the help of this WCS wrapper for the OGC WCPS standard, complex SQL-like queries can be executed on the coverages.<br>\n",
      "\n",
      "Queries can be executed by using following request:"
     ]
    },
    {
     "cell_type": "code",
     "collapsed": false,
     "input": [
      "...&request=ProcessCoverages&query="
     ],
     "language": "python",
     "metadata": {},
     "outputs": []
    },
    {
     "cell_type": "markdown",
     "metadata": {},
     "source": [
      "A query looks as follows (information is encoded as \"csv\"):"
     ]
    },
    {
     "cell_type": "code",
     "collapsed": false,
     "input": [
      "for c in (parameter) return encode(c[Lat(double:double),Long(double:double),ansi(\"2014-01-01T00:00:00+00:00\": \"2014-01-02T00:00:00+00:00\")],\"csv\")"
     ],
     "language": "python",
     "metadata": {},
     "outputs": []
    },
    {
     "cell_type": "markdown",
     "metadata": {},
     "source": [
      "Selection depends on what dimensions the coverage has. The dimensions can be looked up with the **DescribeCoverage** request."
     ]
    },
    {
     "cell_type": "markdown",
     "metadata": {},
     "source": [
      " "
     ]
    },
    {
     "cell_type": "heading",
     "level": 3,
     "metadata": {},
     "source": [
      "How to integrate WCS requests into a python script"
     ]
    },
    {
     "cell_type": "code",
     "collapsed": false,
     "input": [
      "# Load required libraries\n",
      "import requests\n",
      "import json\n",
      "import time\n",
      "import numpy as np\n",
      "import Magics.macro\n",
      "import argparse\n",
      "import os"
     ],
     "language": "python",
     "metadata": {},
     "outputs": [],
     "prompt_number": 1
    },
    {
     "cell_type": "markdown",
     "metadata": {},
     "source": [
      "WCP Processing query format - Example for 2m air temperature spatial and temporal subsetting and conversion from K to degC"
     ]
    },
    {
     "cell_type": "code",
     "collapsed": false,
     "input": [
      "url_fmt = 'http://incubator.ecmwf.int/2e/rasdaman/ows?service=WCS&version=2.0.1&request=ProcessCoverages&query=for c in (%s) return encode(c[Lat(%f), Long(%f), ansi(\"%s\" : \"%s\")] - 273.15, \"csv\") '"
     ],
     "language": "python",
     "metadata": {},
     "outputs": [],
     "prompt_number": 1
    },
    {
     "cell_type": "markdown",
     "metadata": {},
     "source": [
      "Create your customized url based on the url format above"
     ]
    },
    {
     "cell_type": "code",
     "collapsed": false,
     "input": [
      "url = url_fmt % (\"T2m\", 2.4, 3.5, \"2000-12-01T00:00:00+00:00\", \"2013-12-01T00:00:00+00:00\")\n",
      "print url"
     ],
     "language": "python",
     "metadata": {},
     "outputs": [
      {
       "output_type": "stream",
       "stream": "stdout",
       "text": [
        "http://incubator.ecmwf.int/2e/rasdaman/ows?service=WCS&version=2.0.1&request=ProcessCoverages&query=for c in (T2m) return encode(c[Lat(2.400000), Long(3.500000), ansi(\"2000-12-01T00:00:00+00:00\" : \"2013-12-01T00:00:00+00:00\")] - 273.15, \"csv\") \n"
       ]
      }
     ],
     "prompt_number": 2
    },
    {
     "cell_type": "markdown",
     "metadata": {},
     "source": [
      "Store your results in a python list for further processing"
     ]
    },
    {
     "cell_type": "code",
     "collapsed": false,
     "input": [
      "r= requests.get(url,\n",
      "            proxies = {'None'}\n",
      "            )\n",
      "\n",
      "r.raise_for_status()\n",
      "x = [float(a) for a in r.text[1:-1].split(\",\")]\n",
      "print x"
     ],
     "language": "python",
     "metadata": {},
     "outputs": [
      {
       "ename": "NameError",
       "evalue": "name 'requests' is not defined",
       "output_type": "pyerr",
       "traceback": [
        "\u001b[1;31m---------------------------------------------------------------------------\u001b[0m\n\u001b[1;31mNameError\u001b[0m                                 Traceback (most recent call last)",
        "\u001b[1;32m<ipython-input-3-02089c9df6d1>\u001b[0m in \u001b[0;36m<module>\u001b[1;34m()\u001b[0m\n\u001b[1;32m----> 1\u001b[1;33m r= requests.get(url,\n\u001b[0m\u001b[0;32m      2\u001b[0m             \u001b[0mproxies\u001b[0m \u001b[1;33m=\u001b[0m \u001b[1;33m{\u001b[0m\u001b[1;34m'None'\u001b[0m\u001b[1;33m}\u001b[0m\u001b[1;33m\u001b[0m\u001b[0m\n\u001b[0;32m      3\u001b[0m             )\n\u001b[0;32m      4\u001b[0m \u001b[1;33m\u001b[0m\u001b[0m\n\u001b[0;32m      5\u001b[0m \u001b[0mr\u001b[0m\u001b[1;33m.\u001b[0m\u001b[0mraise_for_status\u001b[0m\u001b[1;33m(\u001b[0m\u001b[1;33m)\u001b[0m\u001b[1;33m\u001b[0m\u001b[0m\n",
        "\u001b[1;31mNameError\u001b[0m: name 'requests' is not defined"
       ]
      }
     ],
     "prompt_number": 3
    },
    {
     "cell_type": "heading",
     "level": 3,
     "metadata": {},
     "source": [
      "Enjoy exploring WCS and WCPS!"
     ]
    }
   ],
   "metadata": {}
  }
 ]
}