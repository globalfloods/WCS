{
 "cells": [
  {
   "cell_type": "markdown",
   "metadata": {},
   "source": [
    "## OGC Web Coverage Service (WCS) 2.0.1"
   ]
  },
  {
   "cell_type": "markdown",
   "metadata": {},
   "source": [
    "This notebook gives a short introduction to the Open Geospatial Consortium (OGC) standard WCS and WCPS (Web Coverage Processing Service). Small examples help you to get started retrieving data from a WCS server."
   ]
  },
  {
   "cell_type": "markdown",
   "metadata": {},
   "source": [
    "___________________________________________________________________________________ "
   ]
  },
  {
   "cell_type": "markdown",
   "metadata": {},
   "source": [
    "### OGC WCS Core Requests"
   ]
  },
  {
   "cell_type": "markdown",
   "metadata": {},
   "source": [
    "OGC Web Coverage Service (v.2.0.1) is a standarized data access protocol. \n",
    "There are three core requests in order to get access to data.\n",
    "\n",
    "The WCS server at ECMWF can be accessed via the url below - by specifying either one of the core requests or the WCS extension.<br> \n",
    "http://incubator.ecmwf.int/2e/rasdaman/ows?service=WCS&version=2.0.1&request=...\n",
    "\n",
    "* **GetCapabilities**\n",
    "Returns a XML-encoded description of service properties and all data (coverages) available on the server.<br>\n",
    "    * The **\"Capabilities document\"** is returned and contains information e.g. service provider, to format encodings, supported interpolation methods, coverages on the server <br>\n",
    "\n",
    "    Example: http://incubator.ecmwf.int/2e/rasdaman/ows?service=WCS&version=2.0.1&request=GetCapabilities\n",
    "\n",
    "\n",
    "* **Describe Coverage**\n",
    "Returns XML-encoded description of a specific coverage, to check resolution, dimension etc. <br>\n",
    "    * Returns the **\"Coverage description document\"** that contains information to spatial and temporal dimension and general information to the type of coverage <br>\n",
    "\n",
    "    Example: http://incubator.ecmwf.int/2e/rasdaman/ows?service=WCS&version=2.0.1&request=DescribeCoverage&coverageId=T2m\n",
    "\n",
    "\n",
    "* **GetCoverage**\n",
    "Returns a coverage or spatial / temporal subset of the coverage --> allows slicing and trimming <br>\n",
    "    * Returns either an xml-encoded file with the resulting information as a tuple list\n",
    "\n",
    "    Example: Retrieve 2m air temperature for the year 2012 for Lat 52 - 54 and Lon 0 - 2 <br>\n",
    "        http://incubator.ecmwf.int/2e/rasdaman/ows?service=WCS&version=2.0.1&request=GetCoverage&coverageId=T2m&subset=Lat%2852.0,54.00%29&subset=Long%280.0,2.0%29&subset=ansi%28%222012-01-01T00:00:00+00:00%22,%222012-12-31T18:00:00+00:00%22%29 <br><br>\n",
    "\n",
    "    * or, a specific format encoding can be chosen, e.g. netCDF:    \n",
    "    \n",
    "    Example: you add to your GetCoverage request at the end **&format=application/netcdf**<br>\n",
    "    http://incubator.ecmwf.int/2e/rasdaman/ows?service=WCS&version=2.0.1&request=GetCoverage&coverageId=T2m&subset=Lat%2852.0,54.00%29&subset=Long%280.0,2.0%29&subset=ansi%28%222012-01-01T00:00:00+00:00%22%29&format=application/netcdf \n",
    "\n"
   ]
  },
  {
   "cell_type": "markdown",
   "metadata": {},
   "source": [
    "_____________________________________________________________________________________________________________________ "
   ]
  },
  {
   "cell_type": "markdown",
   "metadata": {},
   "source": [
    "### OGC WCS Extension Requests"
   ]
  },
  {
   "cell_type": "markdown",
   "metadata": {},
   "source": [
    "OGC Web Coverage Processing Service (WCPS) allows extraction, analysis and processing of large gridded geo-referenced datasets.<br> \n",
    "At WCS 2.0.1, there is an extension for **PROCESSING**. <br>\n",
    "\n",
    "With the help of this WCS wrapper for the OGC WCPS standard, complex SQL-based queries can be executed on the coverages.<br>\n",
    "\n",
    "Queries can be executed by using following request:"
   ]
  },
  {
   "cell_type": "code",
   "execution_count": null,
   "metadata": {
    "collapsed": false
   },
   "outputs": [],
   "source": [
    "...&request=ProcessCoverages&query="
   ]
  },
  {
   "cell_type": "markdown",
   "metadata": {},
   "source": [
    "A query looks as follows (information is encoded as \"csv\"):"
   ]
  },
  {
   "cell_type": "code",
   "execution_count": null,
   "metadata": {
    "collapsed": false
   },
   "outputs": [],
   "source": [
    "for c in (parameter) return encode\n",
    "(c[Lat(double:double),Long(double:double),ansi(\"2014-01-01T00:00:00+00:00\": \"2014-01-02T00:00:00+00:00\")],\"csv\")"
   ]
  },
  {
   "cell_type": "markdown",
   "metadata": {},
   "source": [
    "Keep in mind: the information that can be retrieved depend on the coverage specifications, e.g. number of dimensions. Coverage specifications can be looked up with the **DescribeCoverage** request."
   ]
  },
  {
   "cell_type": "markdown",
   "metadata": {},
   "source": [
    "_____________________________________________________________________________________________________________________ "
   ]
  },
  {
   "cell_type": "markdown",
   "metadata": {},
   "source": [
    "### How to integrate WCS requests into a python script"
   ]
  },
  {
   "cell_type": "code",
   "execution_count": 1,
   "metadata": {
    "collapsed": false
   },
   "outputs": [],
   "source": [
    "# Load required libraries\n",
    "import requests\n",
    "import json\n",
    "import time\n",
    "import numpy as np\n",
    "import argparse\n",
    "import os\n",
    "import matplotlib.pyplot as plt"
   ]
  },
  {
   "cell_type": "markdown",
   "metadata": {},
   "source": [
    "WCP Processing query format - Example for 2m air temperature spatial and temporal subsetting and conversion from K to degC"
   ]
  },
  {
   "cell_type": "code",
   "execution_count": 9,
   "metadata": {
    "collapsed": false
   },
   "outputs": [],
   "source": [
    "url_fmt = 'http://incubator.ecmwf.int/2e/rasdaman/ows?service=WCS&version=2.0.1' \\\n",
    "          '&request=ProcessCoverages' \\\n",
    "          '&query=for c in (%s) return encode(c[Lat(%f:%f), Long(%f:%f), ansi(\"%s\")] - 273.15, \"csv\") '"
   ]
  },
  {
   "cell_type": "markdown",
   "metadata": {},
   "source": [
    "Create your customized url based on the url format above"
   ]
  },
  {
   "cell_type": "code",
   "execution_count": 10,
   "metadata": {
    "collapsed": false
   },
   "outputs": [],
   "source": [
    "url = url_fmt % (\"T2m\", 49.5, 60, 0,5, \"2000-12-01T00:00:00+00:00\")"
   ]
  },
  {
   "cell_type": "markdown",
   "metadata": {},
   "source": [
    "Store the data information in a python numpy array for further processing"
   ]
  },
  {
   "cell_type": "code",
   "execution_count": 11,
   "metadata": {
    "collapsed": false
   },
   "outputs": [],
   "source": [
    "r= requests.get(url\n",
    "#            proxies = {\"http\":\"http://proxy.ecmwf.int:3333\"}\n",
    "            )\n",
    "\n",
    "r.raise_for_status()\n",
    "x = np.array(eval(r.text.replace('{','[').replace('}',']')))"
   ]
  },
  {
   "cell_type": "markdown",
   "metadata": {},
   "source": [
    "___________________________________________________"
   ]
  },
  {
   "cell_type": "markdown",
   "metadata": {},
   "source": [
    "## Practical Examples"
   ]
  },
  {
   "cell_type": "markdown",
   "metadata": {
    "collapsed": false
   },
   "source": [
    "### Get Capabilities"
   ]
  },
  {
   "cell_type": "markdown",
   "metadata": {},
   "source": [
    "Call the **GetCapabilities** documents and examine\n",
    "* url base path: http://incubator.ecmwf.int/2e/rasdaman/ows\n",
    "* service: WCS\n",
    "* version: 2.0.1\n",
    "* request: GetCapabilities"
   ]
  },
  {
   "cell_type": "markdown",
   "metadata": {},
   "source": [
    "### Describe Coverage"
   ]
  },
  {
   "cell_type": "markdown",
   "metadata": {},
   "source": [
    "Get metadata to coverages **Total precipitation** and **discharge_forecast**\n",
    "* url base path: http://incubator.ecmwf.int/2e/rasdaman/ows\n",
    "* service: WCS\n",
    "* version: 2.0.1\n",
    "* request: DescribeCoverage\n",
    "* coverageId: **TP** or **discharge_forecast**"
   ]
  },
  {
   "cell_type": "markdown",
   "metadata": {},
   "source": [
    "### Get Coverage"
   ]
  },
  {
   "cell_type": "markdown",
   "metadata": {},
   "source": [
    "Retrieve data of **discharge_forecast** from 15 Dec, 2015 | Forecast step: 0 | Ensemble member: 5 for UK\n",
    "* url base path: http://incubator.ecmwf.int/2e/rasdaman/ows\n",
    "* service: WCS\n",
    "* version: 2.0.1\n",
    "* request: GetCoverage\n",
    "* coverageId: discharge_forecast\n",
    "* subset: Lat(48.0, 60.0)\n",
    "* subset: Long(-11.0, 2.0)\n",
    "* subset: ansi(\"2015-12-15T00:00\")\n",
    "* subset: forecast(0)\n",
    "* subset: ensemble(5)\n",
    "\n",
    "* format: **application/netcdf** or **image/tiff**"
   ]
  },
  {
   "cell_type": "markdown",
   "metadata": {},
   "source": [
    "### WCS extension: Process Coverages"
   ]
  },
  {
   "cell_type": "markdown",
   "metadata": {},
   "source": [
    "Retrieve the same data as from the example above:\n",
    "* url base path: http://incubator.ecmwf.int/2e/rasdaman/ows\n",
    "* service: WCS\n",
    "* version: 2.0.1\n",
    "* request: ProcessCoverages\n",
    "* query: for c in (discharge_forecast) return encode (c[Lat(48.0:60.0),Long(-11.0:2.0),ansi(\"2015-12-15T00:00\"),forecast(0),ensemble(0)],\"csv\")"
   ]
  },
  {
   "cell_type": "markdown",
   "metadata": {},
   "source": [
    "Retrieve 2m temperature for Italy in the year 2003 and convert it from Kelvin to degC\n",
    "* url base path: http://incubator.ecmwf.int/2e/rasdaman/ows\n",
    "* service: WCS\n",
    "* version: 2.0.1\n",
    "* request: ProcessCoverages\n",
    "* query: for c in (T2m) return encode (c[Lat(36.0:46.5),Long(6.0:19.0),ansi(\"2003-01-01T00:00\":\"2003-12-31T18:00\")] - 273.15,\"csv\")\n",
    "\n",
    "Retrieve avg / min / max temperature in Italy in 2003\n",
    "\n",
    "* ...\n",
    "* query: for c in (T2m) return encode (max(c[Lat(36.0:46.5),Long(6.0:19.0),ansi(\"2003-01-01T00:00\":\"2003-12-31T18:00\")]) - 273.15,\"csv\")\n",
    "* query: for c in (T2m) return encode (min(c[Lat(36.0:46.5),Long(6.0:19.0),ansi(\"2003-01-01T00:00\":\"2003-12-31T18:00\")]) - 273.15,\"csv\")\n",
    "* query: for c in (T2m) return encode (avg(c[Lat(36.0:46.5),Long(6.0:19.0),ansi(\"2003-01-01T00:00\":\"2003-12-31T18:00\")]) - 273.15,\"csv\")"
   ]
  },
  {
   "cell_type": "markdown",
   "metadata": {},
   "source": [
    "________________________________________"
   ]
  },
  {
   "cell_type": "markdown",
   "metadata": {},
   "source": [
    "### Enjoy exploring WCS and WCPS!"
   ]
  }
 ],
 "metadata": {
  "kernelspec": {
   "display_name": "Python 2",
   "language": "python",
   "name": "python2"
  },
  "language_info": {
   "codemirror_mode": {
    "name": "ipython",
    "version": 2
   },
   "file_extension": ".py",
   "mimetype": "text/x-python",
   "name": "python",
   "nbconvert_exporter": "python",
   "pygments_lexer": "ipython2",
   "version": "2.7.11"
  }
 },
 "nbformat": 4,
 "nbformat_minor": 0
}
